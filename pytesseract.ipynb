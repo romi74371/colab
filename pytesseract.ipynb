{
  "nbformat": 4,
  "nbformat_minor": 0,
  "metadata": {
    "colab": {
      "provenance": [],
      "authorship_tag": "ABX9TyPA/aGmQnPOhel72EdcnEgG",
      "include_colab_link": true
    },
    "kernelspec": {
      "name": "python3",
      "display_name": "Python 3"
    },
    "language_info": {
      "name": "python"
    }
  },
  "cells": [
    {
      "cell_type": "markdown",
      "metadata": {
        "id": "view-in-github",
        "colab_type": "text"
      },
      "source": [
        "<a href=\"https://colab.research.google.com/github/romi74371/colab/blob/main/pytesseract.ipynb\" target=\"_parent\"><img src=\"https://colab.research.google.com/assets/colab-badge.svg\" alt=\"Open In Colab\"/></a>"
      ]
    },
    {
      "cell_type": "markdown",
      "source": [
        "# Pytesseract\n",
        "\n",
        "This notebook covers the most basic pytesseract use case - extracting text from images"
      ],
      "metadata": {
        "id": "Dw1nj-XYVwbg"
      }
    },
    {
      "cell_type": "code",
      "source": [
        "!sudo apt install tesseract-ocr\n",
        "!pip install pytesseract"
      ],
      "metadata": {
        "colab": {
          "base_uri": "https://localhost:8080/"
        },
        "id": "W73aK0zUWCeI",
        "outputId": "00e48b32-02e3-49db-a0d2-87e2e1e0e5e4"
      },
      "execution_count": null,
      "outputs": [
        {
          "output_type": "stream",
          "name": "stdout",
          "text": [
            "Reading package lists... Done\n",
            "Building dependency tree... Done\n",
            "Reading state information... Done\n",
            "The following additional packages will be installed:\n",
            "  tesseract-ocr-eng tesseract-ocr-osd\n",
            "The following NEW packages will be installed:\n",
            "  tesseract-ocr tesseract-ocr-eng tesseract-ocr-osd\n",
            "0 upgraded, 3 newly installed, 0 to remove and 24 not upgraded.\n",
            "Need to get 4,816 kB of archives.\n",
            "After this operation, 15.6 MB of additional disk space will be used.\n",
            "Get:1 http://archive.ubuntu.com/ubuntu jammy/universe amd64 tesseract-ocr-eng all 1:4.00~git30-7274cfa-1.1 [1,591 kB]\n",
            "Get:2 http://archive.ubuntu.com/ubuntu jammy/universe amd64 tesseract-ocr-osd all 1:4.00~git30-7274cfa-1.1 [2,990 kB]\n",
            "Get:3 http://archive.ubuntu.com/ubuntu jammy/universe amd64 tesseract-ocr amd64 4.1.1-2.1build1 [236 kB]\n",
            "Fetched 4,816 kB in 1s (6,063 kB/s)\n",
            "debconf: unable to initialize frontend: Dialog\n",
            "debconf: (No usable dialog-like program is installed, so the dialog based frontend cannot be used. at /usr/share/perl5/Debconf/FrontEnd/Dialog.pm line 78, <> line 3.)\n",
            "debconf: falling back to frontend: Readline\n",
            "debconf: unable to initialize frontend: Readline\n",
            "debconf: (This frontend requires a controlling tty.)\n",
            "debconf: falling back to frontend: Teletype\n",
            "dpkg-preconfigure: unable to re-open stdin: \n",
            "Selecting previously unselected package tesseract-ocr-eng.\n",
            "(Reading database ... 121654 files and directories currently installed.)\n",
            "Preparing to unpack .../tesseract-ocr-eng_1%3a4.00~git30-7274cfa-1.1_all.deb ...\n",
            "Unpacking tesseract-ocr-eng (1:4.00~git30-7274cfa-1.1) ...\n",
            "Selecting previously unselected package tesseract-ocr-osd.\n",
            "Preparing to unpack .../tesseract-ocr-osd_1%3a4.00~git30-7274cfa-1.1_all.deb ...\n",
            "Unpacking tesseract-ocr-osd (1:4.00~git30-7274cfa-1.1) ...\n",
            "Selecting previously unselected package tesseract-ocr.\n",
            "Preparing to unpack .../tesseract-ocr_4.1.1-2.1build1_amd64.deb ...\n",
            "Unpacking tesseract-ocr (4.1.1-2.1build1) ...\n",
            "Setting up tesseract-ocr-eng (1:4.00~git30-7274cfa-1.1) ...\n",
            "Setting up tesseract-ocr-osd (1:4.00~git30-7274cfa-1.1) ...\n",
            "Setting up tesseract-ocr (4.1.1-2.1build1) ...\n",
            "Processing triggers for man-db (2.10.2-1) ...\n",
            "Collecting pytesseract\n",
            "  Downloading pytesseract-0.3.10-py3-none-any.whl (14 kB)\n",
            "Requirement already satisfied: packaging>=21.3 in /usr/local/lib/python3.10/dist-packages (from pytesseract) (23.2)\n",
            "Requirement already satisfied: Pillow>=8.0.0 in /usr/local/lib/python3.10/dist-packages (from pytesseract) (9.4.0)\n",
            "Installing collected packages: pytesseract\n",
            "Successfully installed pytesseract-0.3.10\n"
          ]
        }
      ]
    },
    {
      "cell_type": "markdown",
      "source": [
        "## import libraries"
      ],
      "metadata": {
        "id": "n49mrGPUWEYS"
      }
    },
    {
      "cell_type": "code",
      "source": [
        "import pytesseract\n",
        "import shutil\n",
        "import os\n",
        "import random\n",
        "try:\n",
        " from PIL import Image\n",
        "except ImportError:\n",
        " import Image"
      ],
      "metadata": {
        "id": "pgKrRgOLWgRx"
      },
      "execution_count": null,
      "outputs": []
    },
    {
      "cell_type": "markdown",
      "source": [
        "## Upload Image to the Colab"
      ],
      "metadata": {
        "id": "tLj_lq5TWjCB"
      }
    },
    {
      "cell_type": "code",
      "source": [
        "!wget https://upload.wikimedia.org/wikipedia/commons/1/14/Bill_Gates_Letter_to_Hobbyists.jpg"
      ],
      "metadata": {
        "colab": {
          "base_uri": "https://localhost:8080/"
        },
        "id": "ti6iwAEjWxAp",
        "outputId": "60581a37-18e5-4542-baaa-acd9b9bae21e"
      },
      "execution_count": null,
      "outputs": [
        {
          "output_type": "stream",
          "name": "stdout",
          "text": [
            "--2024-01-15 09:28:51--  https://upload.wikimedia.org/wikipedia/commons/1/14/Bill_Gates_Letter_to_Hobbyists.jpg\n",
            "Resolving upload.wikimedia.org (upload.wikimedia.org)... 198.35.26.112, 2620:0:863:ed1a::2:b\n",
            "Connecting to upload.wikimedia.org (upload.wikimedia.org)|198.35.26.112|:443... connected.\n",
            "HTTP request sent, awaiting response... 200 OK\n",
            "Length: 2041124 (1.9M) [image/jpeg]\n",
            "Saving to: ‘Bill_Gates_Letter_to_Hobbyists.jpg’\n",
            "\n",
            "Bill_Gates_Letter_t 100%[===================>]   1.95M  --.-KB/s    in 0.1s    \n",
            "\n",
            "2024-01-15 09:28:52 (14.0 MB/s) - ‘Bill_Gates_Letter_to_Hobbyists.jpg’ saved [2041124/2041124]\n",
            "\n"
          ]
        }
      ]
    },
    {
      "cell_type": "code",
      "source": [
        "## Text Extraction"
      ],
      "metadata": {
        "id": "H6bewCMAXJBP"
      },
      "execution_count": null,
      "outputs": []
    },
    {
      "cell_type": "code",
      "source": [
        "image_path_in_colab='Bill_Gates_Letter_to_Hobbyists.jpg'\n",
        "extractedInformation = pytesseract.image_to_string(Image.open(image_path_in_colab))\n",
        "print(extractedInformation)"
      ],
      "metadata": {
        "colab": {
          "base_uri": "https://localhost:8080/"
        },
        "id": "yDI2KOVIXMY6",
        "outputId": "92721fa0-d8be-4d91-e452-ca4180c27441"
      },
      "execution_count": null,
      "outputs": [
        {
          "output_type": "stream",
          "name": "stdout",
          "text": [
            "=\n",
            "February 3, 1976 ;\n",
            "\n",
            "An Open Letter to Hobbyists\n",
            "\n",
            "To me, the most critical thing in the hobby market right now\n",
            "is the lack of good software courses, books and software itself.\n",
            "Without good software and an owner who understands programming, a\n",
            "hobby computer is wasted. Will quality software be written for the\n",
            "hobby market?\n",
            "\n",
            "Almost a year ago, Paul Allen and myself, expecting the hobby\n",
            "Market to expand, hired Monte Davidoff and developed Altair BASIC.\n",
            "Though the initial work took only two months, the three of us have\n",
            "spent most of the last year documenting, improving and adding fea-\n",
            "tures to BASIC. Now we have 4K, 8K, EXTENDED, ROM and DISK BASIC.\n",
            "The value of the computer time we have used exceeds $40,000.\n",
            "\n",
            "The feedback we have gotten from the hundreds of people who\n",
            "say they are using BASIC has all been positive. Two surprising\n",
            "things are apparent, however. 1) Most of these “users\" never bought\n",
            "BASIC (less than 10% of all Altair owners have bought BASIC), and\n",
            "2) The amount of royalties we have received from sales to hobbyists\n",
            "makes the time spent of Altair BASIC worth less than $2 an hour.\n",
            "\n",
            "Why is this? As the majority of hobbyists must be aware, most\n",
            "of you steal your software. Hardware must be paid for, but soft-\n",
            "ware is something to share. Who cares if the people who worked on\n",
            "it get paid?\n",
            "\n",
            "Ts this fair? One thing you don't do by stealing software is\n",
            "get back at MITS for some problem you may have had. MITS doesn't\n",
            "make money selling software. The. royalty paid to us, the manual,\n",
            "the tape and the overhead make it a break-even operation. One thing\n",
            "you do do is prevent good software from being written. Who can af-\n",
            "ford to do professional work for nothing? What hobbyist can put\n",
            "3-man years into programming, finding all bugs, documenting his pro-\n",
            "duct and distribute for free? The fact.is, no one besides us has\n",
            "invested a lot of money in hobby software. We have written 6800\n",
            "BASIC, and are writing 8080 APL and 6800 APL, but there is very lit-\n",
            "tle incentive to make this software available to hobbyists. Most\n",
            "directly, the thing you do is theft.\n",
            "\n",
            "What about the guys who re-sell Altair BASIC, aren't they mak-\n",
            "ing money on hobby software? Yes, but those: who have been reported\n",
            "to us may lose in the end. They are the ones who give hobbyists a\n",
            "bad name, and should be kicked out of any club meeting they show up\n",
            "at.\n",
            "\n",
            "I would appreciate letters from any one who wants to pay up, or\n",
            "has a suggestion or comment. Just write me at 1180 Alvarado SE, #114,\n",
            "Albuquerque, New Mexico, 87108. Nothing would please me more than\n",
            "being able to hire ten programmers and deluge the hobby market with\n",
            "\n",
            "good software. :\n",
            "Bul bate\n",
            "\n",
            "Bill Gates\n",
            "\n",
            "General Partner, Micro-Soft\n",
            "\n",
            " \n",
            "\n",
            " \n",
            "\f\n"
          ]
        }
      ]
    },
    {
      "cell_type": "code",
      "source": [],
      "metadata": {
        "id": "8Q4mVezWXRmS"
      },
      "execution_count": null,
      "outputs": []
    }
  ]
}